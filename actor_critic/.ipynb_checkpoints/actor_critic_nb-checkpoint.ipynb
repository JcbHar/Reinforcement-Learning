{
 "cells": [
  {
   "cell_type": "markdown",
   "id": "40c74a6a-f659-497d-8aee-8cb253824ff5",
   "metadata": {},
   "source": [
    "# Imports"
   ]
  },
  {
   "cell_type": "code",
   "execution_count": null,
   "id": "280ac474-5a0a-4130-a26b-6f75fe5250f4",
   "metadata": {},
   "outputs": [],
   "source": [
    "import gym\n",
    "from agent import Agent\n",
    "from playsound import playsound\n",
    "from models import Actor, Critic\n",
    "from methods import train, simulate, save_plot, output_to_terminal"
   ]
  },
  {
   "cell_type": "markdown",
   "id": "65d82d0b-b0b0-482c-b2c2-19f10f8c2ceb",
   "metadata": {},
   "source": [
    "---"
   ]
  },
  {
   "cell_type": "markdown",
   "id": "e6b366bf-0528-4ed7-bf21-264d63a58acc",
   "metadata": {},
   "source": [
    "# Hyperparameters"
   ]
  },
  {
   "cell_type": "code",
   "execution_count": null,
   "id": "dd7ba4b8-73af-4642-932f-6456fc7caa3c",
   "metadata": {},
   "outputs": [],
   "source": [
    "env_name = \"HumanoidBulletEnv-v0\"\n",
    "seed = 50\n",
    "env = gym.make(env_name)\n",
    "env.seed(seed)\n",
    "env.action_space.seed(seed)\n",
    "\n",
    "episodes = 2000\n",
    "sleep_time = 0.02\n",
    "num_states = env.observation_space.shape[0]\n",
    "num_actions = env.action_space.shape[0]\n",
    "\n",
    "print(\"=\" * 100)\n",
    "print(\"Environment Information:\")\n",
    "print(\"-\" * 100)\n",
    "print(\"Environment:\", env_name)\n",
    "print(\"Number of States:\",num_states)\n",
    "print(\"Number of Actions:\",num_actions)\n",
    "print(\"Action Space Shape:\", env.action_space.shape)\n",
    "print(\"Observation Space Shape:\", env.observation_space.shape)\n",
    "print(\"Observation Space High:\", env.observation_space.high)\n",
    "print(\"Observation Space Low:\", env.observation_space.low)\n",
    "print(\"Action Space-High:\", env.action_space.high)\n",
    "print(\"Action Space-Low:\", env.action_space.low)\n",
    "print(\"-\" * 100)\n",
    "print(\"Episodes:\", episodes)\n",
    "print(\"Seed:\", seed)\n",
    "print(\"Simulator Sleep Time:\", sleep_time)\n",
    "print()\n",
    "print(\"-\" * 100)\n",
    "\n",
    "hyperparameters_various = {\n",
    "    'H1': {'num_states': num_states, 'num_actions': num_actions, 'hidden_size': 256, 'actor_lr': 1e-7, 'critic_lr': 1e-4, 'alpha_lr': 1e-4, 'gamma': 0.95, 'tau': 0.005},\n",
    "}\n",
    "\n",
    "output_to_terminal(True)"
   ]
  },
  {
   "cell_type": "markdown",
   "id": "aae6fa59-ce87-4633-a54e-7fa5ff82cf0c",
   "metadata": {},
   "source": [
    "---"
   ]
  },
  {
   "cell_type": "markdown",
   "id": "c176c51b-e04c-4a82-b310-ce56dba058f8",
   "metadata": {},
   "source": [
    "# Train"
   ]
  },
  {
   "cell_type": "code",
   "execution_count": null,
   "id": "d66915c0-d6c2-4129-8cde-729d3608dd71",
   "metadata": {},
   "outputs": [],
   "source": [
    "print(\"\\n\" * 1000)\n",
    "hyperparameter_keys = list(hyperparameters_various.keys()) \n",
    "\n",
    "for i, key in enumerate(hyperparameter_keys):\n",
    "    hyperparameters = hyperparameters_various[hyperparameter_keys[i]] \n",
    "    train(episodes, hyperparameters, env_name, i) \n",
    "\n",
    "print(\"Training Finished\")\n",
    "print(\"=\" * 57)\n",
    "\n",
    "#playsound(\"misc/training_finished.mp3\")"
   ]
  },
  {
   "cell_type": "markdown",
   "id": "b0ddb917-abbd-4946-9ded-204b4543de1a",
   "metadata": {},
   "source": [
    "---"
   ]
  },
  {
   "cell_type": "markdown",
   "id": "6a5840ab-368a-4d77-943e-6375005b3882",
   "metadata": {},
   "source": [
    "# Simulate"
   ]
  },
  {
   "cell_type": "code",
   "execution_count": null,
   "id": "f2fa5e95-6db6-4e44-be59-b72ece4390ec",
   "metadata": {},
   "outputs": [],
   "source": [
    "print(\"\\n\" * 1000)\n",
    "\n",
    "hyperparameter_keys = list(hyperparameters_various.keys()) \n",
    "\n",
    "hyperparameters = hyperparameters_various[hyperparameter_keys[0]] \n",
    "simulate(episodes, hyperparameters, env_name, sleep_time)\n",
    "\n",
    "print(\"=\" * 57)\n",
    "print(\"Simulation Finished\")\n",
    "print(\"=\" * 57)"
   ]
  },
  {
   "cell_type": "markdown",
   "id": "1288eb58-59eb-48da-9b9b-7fc30d2a01bc",
   "metadata": {},
   "source": [
    "---"
   ]
  }
 ],
 "metadata": {
  "kernelspec": {
   "display_name": "Python 3 (ipykernel)",
   "language": "python",
   "name": "python3"
  },
  "language_info": {
   "codemirror_mode": {
    "name": "ipython",
    "version": 3
   },
   "file_extension": ".py",
   "mimetype": "text/x-python",
   "name": "python",
   "nbconvert_exporter": "python",
   "pygments_lexer": "ipython3",
   "version": "3.9.21"
  }
 },
 "nbformat": 4,
 "nbformat_minor": 5
}
