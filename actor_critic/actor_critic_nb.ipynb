{
 "cells": [
  {
   "cell_type": "markdown",
   "id": "40c74a6a-f659-497d-8aee-8cb253824ff5",
   "metadata": {},
   "source": [
    "# Imports"
   ]
  },
  {
   "cell_type": "code",
   "execution_count": 1,
   "id": "280ac474-5a0a-4130-a26b-6f75fe5250f4",
   "metadata": {},
   "outputs": [],
   "source": [
    "import gym\n",
    "from agent import Agent\n",
    "from models import Actor, Critic\n",
    "from methods import train, simulate, plot_rewards, save_plot, initialise"
   ]
  },
  {
   "cell_type": "markdown",
   "id": "48cea9c2-71a2-4549-895f-1efa886b63fc",
   "metadata": {},
   "source": [
    "<div style=\"height: 50px\"></div>"
   ]
  },
  {
   "cell_type": "markdown",
   "id": "65d82d0b-b0b0-482c-b2c2-19f10f8c2ceb",
   "metadata": {},
   "source": [
    "---"
   ]
  },
  {
   "cell_type": "markdown",
   "id": "e6b366bf-0528-4ed7-bf21-264d63a58acc",
   "metadata": {},
   "source": [
    "# Hyperparameters"
   ]
  },
  {
   "cell_type": "code",
   "execution_count": 2,
   "id": "dd7ba4b8-73af-4642-932f-6456fc7caa3c",
   "metadata": {},
   "outputs": [],
   "source": [
    "env_name = \"HumanoidBulletEnv-v0\"\n",
    "env = gym.make(env_name)\n",
    "output_to_terminal = True\n",
    "\n",
    "episodes = 2000\n",
    "sleep_time = 0.02\n",
    "num_states = env.observation_space.shape[0]\n",
    "num_actions = env.action_space.shape[0]\n",
    "\n",
    "hyperparameters_various = {\n",
    "    'H1': {'num_states': num_states, 'num_actions': num_actions, 'hidden_size': 64, 'actor_learning_rate': 1e-6, 'critic_learning_rate': 1e-5, 'gamma': 0.99},\n",
    "    'H2': {'num_states': num_states, 'num_actions': num_actions, 'hidden_size': 64, 'actor_learning_rate': 1e-5, 'critic_learning_rate': 1e-4, 'gamma': 0.99},\n",
    "    'H3': {'num_states': num_states, 'num_actions': num_actions, 'hidden_size': 128, 'actor_learning_rate': 1e-4, 'critic_learning_rate': 1e-3, 'gamma': 0.98},\n",
    "    'H4': {'num_states': num_states, 'num_actions': num_actions, 'hidden_size': 128, 'actor_learning_rate': 5e-4, 'critic_learning_rate': 1e-3, 'gamma': 0.95},\n",
    "    'H5': {'num_states': num_states, 'num_actions': num_actions, 'hidden_size': 256, 'actor_learning_rate': 1e-4, 'critic_learning_rate': 5e-4, 'gamma': 0.99},\n",
    "    'H6': {'num_states': num_states, 'num_actions': num_actions, 'hidden_size': 256, 'actor_learning_rate': 5e-5, 'critic_learning_rate': 1e-3, 'gamma': 0.97},\n",
    "    'H7': {'num_states': num_states, 'num_actions': num_actions, 'hidden_size': 512, 'actor_learning_rate': 1e-4, 'critic_learning_rate': 1e-3, 'gamma': 0.99},\n",
    "    'H8': {'num_states': num_states, 'num_actions': num_actions, 'hidden_size': 512, 'actor_learning_rate': 1e-3, 'critic_learning_rate': 1e-2, 'gamma': 0.95},\n",
    "}\n",
    "\n",
    "initialise(output_to_terminal)"
   ]
  },
  {
   "cell_type": "markdown",
   "id": "ed2b62b7-123d-49d1-8e48-81c4795b2ca0",
   "metadata": {},
   "source": [
    "<div style=\"height: 50px\"></div>"
   ]
  },
  {
   "cell_type": "markdown",
   "id": "aae6fa59-ce87-4633-a54e-7fa5ff82cf0c",
   "metadata": {},
   "source": [
    "---"
   ]
  },
  {
   "cell_type": "markdown",
   "id": "c176c51b-e04c-4a82-b310-ce56dba058f8",
   "metadata": {},
   "source": [
    "# Train"
   ]
  },
  {
   "cell_type": "code",
   "execution_count": null,
   "id": "d66915c0-d6c2-4129-8cde-729d3608dd71",
   "metadata": {},
   "outputs": [],
   "source": [
    "hyperparameter_keys = list(hyperparameters_various.keys()) \n",
    "# GRADIENT IS VANISHING\n",
    "for i, key in enumerate(hyperparameter_keys):\n",
    "    print(\"\\n\" * 10)\n",
    "    print(f\"TRAINING WITH H{i}\")\n",
    "    hyperparameters = hyperparameters_various[hyperparameter_keys[i]] \n",
    "    rewards_over_episodes = train(episodes, hyperparameters, env_name) \n",
    "    save_plot(rewards_over_episodes, hyperparameters, filename=key)"
   ]
  },
  {
   "cell_type": "markdown",
   "id": "dd151733-46b1-4dd9-ae84-53d93ab2508d",
   "metadata": {},
   "source": [
    "<div style=\"height: 50px\"></div>"
   ]
  },
  {
   "cell_type": "markdown",
   "id": "e33ae999-d870-4360-b35c-843f51c927ad",
   "metadata": {},
   "source": [
    "---"
   ]
  },
  {
   "cell_type": "markdown",
   "id": "3efc35ac-8ddf-4ce3-b85f-1baac8b61d52",
   "metadata": {},
   "source": [
    "# Plot"
   ]
  },
  {
   "cell_type": "code",
   "execution_count": null,
   "id": "1727c66a-2073-4d0f-82f2-a305a0222376",
   "metadata": {},
   "outputs": [],
   "source": [
    "#plot_rewards(rewards_over_episodes) # add hyperparameters here to save onto legend and save this as png\n",
    "# automate training in for loop that automatically saves after 2000 episodes, also create array/dict of parameters to use in new data structure"
   ]
  },
  {
   "cell_type": "markdown",
   "id": "c2a66ad8-c98b-42bd-90b1-d52454b95569",
   "metadata": {},
   "source": [
    "<div style=\"height: 50px\"></div>"
   ]
  },
  {
   "cell_type": "markdown",
   "id": "b0ddb917-abbd-4946-9ded-204b4543de1a",
   "metadata": {},
   "source": [
    "---"
   ]
  },
  {
   "cell_type": "markdown",
   "id": "6a5840ab-368a-4d77-943e-6375005b3882",
   "metadata": {},
   "source": [
    "# Simulate"
   ]
  },
  {
   "cell_type": "code",
   "execution_count": null,
   "id": "f2fa5e95-6db6-4e44-be59-b72ece4390ec",
   "metadata": {},
   "outputs": [],
   "source": [
    "simulate(episodes, hyperparameters, env_name, sleep_time)"
   ]
  },
  {
   "cell_type": "markdown",
   "id": "ab08d36e-afbc-4cec-bce3-5f36190884d8",
   "metadata": {},
   "source": [
    "<div style=\"height: 50px\"></div>"
   ]
  },
  {
   "cell_type": "markdown",
   "id": "1288eb58-59eb-48da-9b9b-7fc30d2a01bc",
   "metadata": {},
   "source": [
    "---"
   ]
  },
  {
   "cell_type": "markdown",
   "id": "64ff04d7-8155-4827-ba5b-a26ed997093b",
   "metadata": {},
   "source": [
    "<div style=\"height: 50px\"></div>"
   ]
  },
  {
   "cell_type": "code",
   "execution_count": null,
   "id": "94fa4ca8-d7eb-4280-9cf8-2010d664c2b9",
   "metadata": {},
   "outputs": [],
   "source": [
    "# Study reward function\n",
    "# exploration/exploitation\n",
    "# more episodes\n",
    "# check to see if I can change the reward function\n",
    "# record videos of results/plots"
   ]
  }
 ],
 "metadata": {
  "kernelspec": {
   "display_name": "Python 3 (ipykernel)",
   "language": "python",
   "name": "python3"
  },
  "language_info": {
   "codemirror_mode": {
    "name": "ipython",
    "version": 3
   },
   "file_extension": ".py",
   "mimetype": "text/x-python",
   "name": "python",
   "nbconvert_exporter": "python",
   "pygments_lexer": "ipython3",
   "version": "3.9.21"
  }
 },
 "nbformat": 4,
 "nbformat_minor": 5
}
