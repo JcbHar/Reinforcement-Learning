{
 "cells": [
  {
   "cell_type": "code",
   "execution_count": null,
   "id": "5a0a1d38-1f42-4062-9db4-20f7026f058e",
   "metadata": {},
   "outputs": [],
   "source": [
    "import gym\n",
    "import sys\n",
    "import numpy as np"
   ]
  },
  {
   "cell_type": "code",
   "execution_count": null,
   "id": "0c21c340-ca30-45aa-936b-eb3aa2139630",
   "metadata": {},
   "outputs": [],
   "source": [
    "def output_to_terminal(output=True):\n",
    "    if output:\n",
    "        sys.stdout = open('CON', 'w')\n",
    "    else:\n",
    "        sys.stdout = sys.__stdout__\n",
    "\n",
    "output_to_terminal()"
   ]
  },
  {
   "cell_type": "code",
   "execution_count": null,
   "id": "3383fdb4-3106-482c-ad72-bc0dd267741a",
   "metadata": {},
   "outputs": [],
   "source": [
    "env = gym.make(\"FrozenLake-v1\", is_slippery=False)\n",
    "num_states = env.observation_space.n\n",
    "num_actions = env.action_space.n\n",
    "\n",
    "alpha = 0.1\n",
    "gamma = 0.99\n",
    "epsilon = 1.0\n",
    "epsilon_min = 0.01\n",
    "epsilon_decay = 0.9\n",
    "num_episodes = 5000\n",
    "\n",
    "Q_table = np.zeros((num_states, num_actions))"
   ]
  },
  {
   "cell_type": "code",
   "execution_count": null,
   "id": "7b62659f-8399-4be8-8a75-8504b0656afd",
   "metadata": {},
   "outputs": [],
   "source": [
    "for episode in range(num_episodes):\n",
    "    state, _ = env.reset()\n",
    "    \n",
    "    done = False\n",
    "\n",
    "    while not done:\n",
    "        if np.random.rand() < epsilon:\n",
    "            action = env.action_space.sample()\n",
    "        else:\n",
    "            action = np.argmax(Q_table[state])\n",
    "        \n",
    "        next_state, reward, truncated, terminated, info = env.step(action)\n",
    "        done = truncated or terminated\n",
    "        \n",
    "        Q_table[state, action] = Q_table[state, action] + alpha * (\n",
    "            reward + gamma * np.max(Q_table[next_state]) - Q_table[state, action]\n",
    "        )\n",
    "\n",
    "        state = next_state\n",
    "\n",
    "    epsilon = max(epsilon_min, epsilon * epsilon_decay)\n",
    "\n",
    "print(\"=\" * 57)\n",
    "print(\"Training Finished\")\n",
    "print(\"=\" * 57)"
   ]
  },
  {
   "cell_type": "code",
   "execution_count": null,
   "id": "4feb24a8-d307-4a01-a126-5a5721b5307d",
   "metadata": {},
   "outputs": [],
   "source": [
    "num_test_episodes = 5\n",
    "\n",
    "for episode in range(num_test_episodes):\n",
    "    state, _ = env.reset()\n",
    "    done = False\n",
    "\n",
    "    env.render() \n",
    "\n",
    "    while not done:\n",
    "        action = np.argmax(Q_table[state]) \n",
    "        next_state, reward, truncated, terminated, _ = env.step(action)\n",
    "        done = truncated or terminated\n",
    "\n",
    "        env.render()\n",
    "        state = next_state\n",
    "\n",
    "env.close()"
   ]
  },
  {
   "cell_type": "markdown",
   "id": "ab091cc3-ac7a-4c90-8796-66a02a5c8ecc",
   "metadata": {},
   "source": [
    "---"
   ]
  }
 ],
 "metadata": {
  "kernelspec": {
   "display_name": "Python (ql_env)",
   "language": "python",
   "name": "ql_env"
  },
  "language_info": {
   "codemirror_mode": {
    "name": "ipython",
    "version": 3
   },
   "file_extension": ".py",
   "mimetype": "text/x-python",
   "name": "python",
   "nbconvert_exporter": "python",
   "pygments_lexer": "ipython3",
   "version": "3.13.1"
  }
 },
 "nbformat": 4,
 "nbformat_minor": 5
}
