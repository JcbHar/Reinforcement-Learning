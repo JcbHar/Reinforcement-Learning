{
 "cells": [
  {
   "cell_type": "markdown",
   "id": "d8fd7669-1fed-4c1e-a71d-e688ecd5e560",
   "metadata": {},
   "source": [
    "# Imports"
   ]
  },
  {
   "cell_type": "code",
   "execution_count": 1,
   "id": "1c6feb9c-9f97-42c2-acfd-c8c5af32f87c",
   "metadata": {},
   "outputs": [],
   "source": [
    "import os\n",
    "import warnings\n",
    "import numpy as np\n",
    "from models import DQN\n",
    "from agent import Agent\n",
    "import gymnasium as gym\n",
    "from methods import train, simulate, save_plot, output_to_terminal\n",
    "\n",
    "os.environ[\"KMP_DUPLICATE_LIB_OK\"] = \"TRUE\"\n",
    "os.environ[\"OMP_NUM_THREADS\"] = \"1\"\n",
    "os.environ[\"MKL_NUM_THREADS\"] = \"1\"\n",
    "os.environ[\"NUMEXPR_NUM_THREADS\"] = \"1\""
   ]
  },
  {
   "cell_type": "markdown",
   "id": "77ad7c6e-f2d3-4e85-a094-e4003a54852a",
   "metadata": {},
   "source": [
    "---"
   ]
  },
  {
   "cell_type": "markdown",
   "id": "e36f2270-9c4c-4d03-adae-83486a9f08fe",
   "metadata": {},
   "source": [
    "# Hyperparameters"
   ]
  },
  {
   "cell_type": "code",
   "execution_count": 2,
   "id": "f00de418-20d2-49f9-add4-05280fba543a",
   "metadata": {},
   "outputs": [
    {
     "name": "stdout",
     "output_type": "stream",
     "text": [
      "====================================================================================================\n",
      "Environment Information:\n",
      "----------------------------------------------------------------------------------------------------\n",
      "Environment: Pendulum-v1\n",
      "Number of States: 3\n",
      "Number of Actions: 11\n",
      "Action Space Shape: (1,)\n",
      "Observation Space Shape: (3,)\n",
      "Observation Space High: [1. 1. 8.]\n",
      "Observation Space Low: [-1. -1. -8.]\n",
      "Action Space-High: [2.]\n",
      "Action Space-Low: [-2.]\n",
      "----------------------------------------------------------------------------------------------------\n",
      "Episodes: 15000\n",
      "Seed: 50\n",
      "\n",
      "----------------------------------------------------------------------------------------------------\n"
     ]
    }
   ],
   "source": [
    "env_name = \"Pendulum-v1\"\n",
    "seed = 50\n",
    "env = gym.make(env_name)\n",
    "env.reset(seed=seed)\n",
    "env.action_space.seed(seed)\n",
    "\n",
    "episodes = 15000\n",
    "num_states = env.observation_space.shape[0]\n",
    "num_actions = 11\n",
    "\n",
    "print(\"=\" * 100)\n",
    "print(\"Environment Information:\")\n",
    "print(\"-\" * 100)\n",
    "print(\"Environment:\", env_name)\n",
    "print(\"Number of States:\", num_states)\n",
    "print(\"Number of Actions:\", num_actions)\n",
    "print(\"Action Space Shape:\", env.action_space.shape)\n",
    "print(\"Observation Space Shape:\", env.observation_space.shape)\n",
    "print(\"Observation Space High:\", env.observation_space.high)\n",
    "print(\"Observation Space Low:\", env.observation_space.low)\n",
    "print(\"Action Space-High:\", env.action_space.high)\n",
    "print(\"Action Space-Low:\", env.action_space.low)\n",
    "print(\"-\" * 100)\n",
    "print(\"Episodes:\", episodes)\n",
    "print(\"Seed:\", seed)\n",
    "print()\n",
    "print(\"-\" * 100)\n",
    "\n",
    "hyperparameters_various = {\n",
    "    'H1': { 'num_states': num_states, 'num_actions': num_actions, 'hidden_size': 256, 'lr': 0.001, \n",
    "           'gamma': 0.99, 'min_epsilon': 0.01, 'max_epsilon': 1.0, 'total_episodes': episodes, 'buffer_capacity': 100000, \n",
    "           'batch_size': 64, 'target_update': 10, 'seed': seed }\n",
    "}\n",
    "\n",
    "output_to_terminal(True)"
   ]
  },
  {
   "cell_type": "markdown",
   "id": "7aedd146-01a1-4073-8d20-f7b501845ac4",
   "metadata": {},
   "source": [
    "---"
   ]
  },
  {
   "cell_type": "markdown",
   "id": "b4f5dc55-cf53-4c71-82da-61f16467357e",
   "metadata": {},
   "source": [
    "# Train"
   ]
  },
  {
   "cell_type": "code",
   "execution_count": 3,
   "id": "30a9606a-8324-4dbb-bd53-fa0c73a8d23b",
   "metadata": {},
   "outputs": [],
   "source": [
    "print(\"\\n\" * 1000)\n",
    "hyperparameter_keys = list(hyperparameters_various.keys())\n",
    "\n",
    "for i, key in enumerate(hyperparameter_keys):\n",
    "    hyperparameters = hyperparameters_various[key]\n",
    "    train(episodes, hyperparameters, env_name, i)\n",
    "\n",
    "print(\"Training Finished\")\n",
    "print(\"=\" * 57)"
   ]
  },
  {
   "cell_type": "markdown",
   "id": "29e2aa17-9048-45bd-8182-00e1b2ccb6f9",
   "metadata": {},
   "source": [
    "---"
   ]
  },
  {
   "cell_type": "markdown",
   "id": "45f5436f-9783-41ce-88e7-6ad38eca3a23",
   "metadata": {},
   "source": [
    "# Simulate"
   ]
  },
  {
   "cell_type": "code",
   "execution_count": null,
   "id": "bdacda19-cfb0-416f-b230-24a208a8a924",
   "metadata": {},
   "outputs": [
    {
     "name": "stderr",
     "output_type": "stream",
     "text": [
      "<frozen importlib._bootstrap>:488: RuntimeWarning: Your system is avx2 capable but pygame was not built with support for it. The performance of some of your blits could be adversely affected. Consider enabling compile time detection with environment variables like PYGAME_DETECT_AVX2=1 if you are compiling without cross compilation.\n"
     ]
    }
   ],
   "source": [
    "print(\"\\n\" * 1000)\n",
    "hyperparameter_keys = list(hyperparameters_various.keys())\n",
    "\n",
    "hyperparameters = hyperparameters_various[hyperparameter_keys[0]]\n",
    "simulate(episodes, hyperparameters, env_name)\n",
    "\n",
    "print(\"=\" * 57)\n",
    "print(\"Simulation Finished\")\n",
    "print(\"=\" * 57)\n",
    "\n",
    "warnings.simplefilter(\"ignore\", RuntimeWarning)"
   ]
  },
  {
   "cell_type": "markdown",
   "id": "e892aff2-c6ed-469c-b1b2-14075a532a86",
   "metadata": {},
   "source": [
    "---"
   ]
  }
 ],
 "metadata": {
  "kernelspec": {
   "display_name": "Python (dql_env)",
   "language": "python",
   "name": "dql_env"
  },
  "language_info": {
   "codemirror_mode": {
    "name": "ipython",
    "version": 3
   },
   "file_extension": ".py",
   "mimetype": "text/x-python",
   "name": "python",
   "nbconvert_exporter": "python",
   "pygments_lexer": "ipython3",
   "version": "3.13.1"
  }
 },
 "nbformat": 4,
 "nbformat_minor": 5
}
